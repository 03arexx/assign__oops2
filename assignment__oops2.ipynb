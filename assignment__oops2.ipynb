{
 "cells": [
  {
   "cell_type": "markdown",
   "id": "1fd466a1-3ffe-455b-a89c-2c6df506bba6",
   "metadata": {},
   "source": [
    "1.What is Abstraction in OOps? Explain with an example."
   ]
  },
  {
   "cell_type": "markdown",
   "id": "de2d2c47-325e-4199-b164-8c4200b8e781",
   "metadata": {},
   "source": [
    "Abstraction in object-oriented programming (OOP) is the process of hiding the implementation details of a class and showing only the essential features of the object. It allows developers to focus on what an object does rather than how it does it. Abstraction helps in reducing programming complexity and effort by providing a simplified interface for interacting with objects."
   ]
  },
  {
   "cell_type": "code",
   "execution_count": 1,
   "id": "03d45db5-ff2b-48d8-ae5b-deb3d7222d25",
   "metadata": {},
   "outputs": [],
   "source": [
    "import abc\n",
    "class test:\n",
    "    @abc.abstractmethod\n",
    "    def test1(self):\n",
    "        pass\n",
    "    \n",
    "    @abc.abstractmethod\n",
    "    def test2(self):\n",
    "        pass\n",
    "    \n",
    "    @abc.abstractmethod\n",
    "    def test3(self):\n",
    "        pass"
   ]
  },
  {
   "cell_type": "code",
   "execution_count": 2,
   "id": "e7169c78-3579-473e-bf6b-1ca4ca8c51fe",
   "metadata": {},
   "outputs": [],
   "source": [
    "class student(test):\n",
    "    def test1(self):\n",
    "        return 'reshad'\n",
    "    def test2(self):\n",
    "        return 'aadil'\n",
    "    def test4(self):\n",
    "        return 'rehan'"
   ]
  },
  {
   "cell_type": "code",
   "execution_count": 3,
   "id": "d914b5af-c593-4640-8f49-3c4c409ef0ee",
   "metadata": {},
   "outputs": [],
   "source": [
    "class teacher(test):\n",
    "    def test1(self):\n",
    "        return 'reshad and rehan '\n",
    "    def test2(self):\n",
    "        return 'aadil n reshad'\n",
    "    def test4(self):\n",
    "        return 'rehan and me'"
   ]
  },
  {
   "cell_type": "code",
   "execution_count": 5,
   "id": "e721d891-971e-4828-b865-3f5ea52dee98",
   "metadata": {},
   "outputs": [],
   "source": [
    "x=student()"
   ]
  },
  {
   "cell_type": "code",
   "execution_count": 7,
   "id": "9b0767af-8183-4f63-80d3-8474bf54d09f",
   "metadata": {},
   "outputs": [
    {
     "data": {
      "text/plain": [
       "'reshad'"
      ]
     },
     "execution_count": 7,
     "metadata": {},
     "output_type": "execute_result"
    }
   ],
   "source": [
    "x.test1()"
   ]
  },
  {
   "cell_type": "code",
   "execution_count": 8,
   "id": "26a979c3-ec54-4169-9c86-df46c15deb02",
   "metadata": {},
   "outputs": [],
   "source": [
    "y=teacher()"
   ]
  },
  {
   "cell_type": "code",
   "execution_count": 9,
   "id": "987f0e4e-7f10-4e15-8b14-dd48c70399de",
   "metadata": {},
   "outputs": [
    {
     "data": {
      "text/plain": [
       "'aadil n reshad'"
      ]
     },
     "execution_count": 9,
     "metadata": {},
     "output_type": "execute_result"
    }
   ],
   "source": [
    "y.test2()"
   ]
  },
  {
   "cell_type": "markdown",
   "id": "4af64495-0e58-465e-b314-13293a516ef7",
   "metadata": {},
   "source": [
    "Q2. Differentiate between Abstraction and Encapsulation. Explain with an example."
   ]
  },
  {
   "cell_type": "markdown",
   "id": "5888cebb-0686-4987-9424-6f2ad36f0484",
   "metadata": {},
   "source": [
    "Abstraction focuses on hiding the implementation details of an object and showing only the essential features or functionalities. It allows the programmer to focus on what an object does rather than how it does it.\n",
    "\n",
    "Encapsulation focuses on bundling the data (attributes or properties) and methods (behaviors or operations) that operate on the data into a single unit, called a class. It hides the internal state of an object from the outside world and only exposes a set of public methods to interact with it."
   ]
  },
  {
   "cell_type": "markdown",
   "id": "a2fb6dbe-5a29-4c49-9b4f-5cce5668ca53",
   "metadata": {},
   "source": [
    "Q3. What is abc module in python? Why is it used?"
   ]
  },
  {
   "cell_type": "markdown",
   "id": "8f9f125a-770e-4885-88f8-4de3186741bf",
   "metadata": {},
   "source": [
    "The abc module stands for \"Abstract Base Classes.\" It provides tools for defining abstract base classes in Python. Abstract base classes are classes that define methods that must be implemented by their subclasses, but they don't provide implementations for those methods themselves. Instead, they serve as a blueprint for other classes to inherit from.\n",
    "The abc module is used to define abstract base classes and enforce method contracts for subclasses"
   ]
  },
  {
   "cell_type": "markdown",
   "id": "5af9c144-45b4-4825-9c06-4bb5b998d7e3",
   "metadata": {},
   "source": [
    "Q4. How can we achieve data abstraction?"
   ]
  },
  {
   "cell_type": "markdown",
   "id": "78fb2ae7-466e-4770-adaf-f65d1e0726b3",
   "metadata": {},
   "source": [
    "\n",
    "Data abstraction in programming refers to the concept of hiding the implementation details of data and exposing only the essential features or interfaces to the outside world. It allows developers to focus on what the data represents and how it can be used rather than how it is implemented internally. In object-oriented programming, data abstraction is typically achieved through the use of classes and access control mechanisms such as encapsulation."
   ]
  },
  {
   "cell_type": "markdown",
   "id": "26960829-5861-44b1-900f-144612c3a1a9",
   "metadata": {},
   "source": [
    "Q5. Can we create an instance of an abstract class? Explain your answer."
   ]
  },
  {
   "cell_type": "markdown",
   "id": "cc6c17ce-1fe8-472c-a5a4-6cf1b03aff54",
   "metadata": {},
   "source": [
    "No, you cannot create an instance of an abstract class in most object-oriented programming languages. Abstract classes are designed to serve as blueprints for other classes and are incomplete in themselves because they contain one or more abstract methods, which are methods without a body. Abstract methods are meant to be implemented by subclasses."
   ]
  },
  {
   "cell_type": "code",
   "execution_count": null,
   "id": "5c46c566-08ad-43c3-85d7-32548f37cd41",
   "metadata": {},
   "outputs": [],
   "source": []
  }
 ],
 "metadata": {
  "kernelspec": {
   "display_name": "Python 3 (ipykernel)",
   "language": "python",
   "name": "python3"
  },
  "language_info": {
   "codemirror_mode": {
    "name": "ipython",
    "version": 3
   },
   "file_extension": ".py",
   "mimetype": "text/x-python",
   "name": "python",
   "nbconvert_exporter": "python",
   "pygments_lexer": "ipython3",
   "version": "3.10.8"
  }
 },
 "nbformat": 4,
 "nbformat_minor": 5
}
